{
  "cells": [
    {
      "cell_type": "code",
      "execution_count": 4,
      "metadata": {
        "colab": {
          "base_uri": "https://localhost:8080/"
        },
        "id": "DLqA2e21wxDf",
        "outputId": "119027fd-4bb0-40b4-ffe7-5fdbbdd0e64d"
      },
      "outputs": [
        {
          "name": "stdout",
          "output_type": "stream",
          "text": [
            "\u001b[33mDEPRECATION: Configuring installation scheme with distutils config files is deprecated and will no longer work in the near future. If you are using a Homebrew or Linuxbrew Python, please see discussion at https://github.com/Homebrew/homebrew-core/issues/76621\u001b[0m\u001b[33m\n",
            "\u001b[0mRequirement already satisfied: tensorflow_addons in /usr/local/lib/python3.9/site-packages (0.18.0)\n",
            "Requirement already satisfied: packaging in /usr/local/lib/python3.9/site-packages (from tensorflow_addons) (21.3)\n",
            "Requirement already satisfied: typeguard>=2.7 in /usr/local/lib/python3.9/site-packages (from tensorflow_addons) (2.13.3)\n",
            "Requirement already satisfied: pyparsing!=3.0.5,>=2.0.2 in /usr/local/lib/python3.9/site-packages (from packaging->tensorflow_addons) (2.4.7)\n",
            "\u001b[33mDEPRECATION: Configuring installation scheme with distutils config files is deprecated and will no longer work in the near future. If you are using a Homebrew or Linuxbrew Python, please see discussion at https://github.com/Homebrew/homebrew-core/issues/76621\u001b[0m\u001b[33m\n",
            "\u001b[0m\u001b[33mDEPRECATION: Configuring installation scheme with distutils config files is deprecated and will no longer work in the near future. If you are using a Homebrew or Linuxbrew Python, please see discussion at https://github.com/Homebrew/homebrew-core/issues/76621\u001b[0m\u001b[33m\n",
            "\u001b[0mRequirement already satisfied: einops in /usr/local/lib/python3.9/site-packages (0.6.0)\n",
            "\u001b[33mDEPRECATION: Configuring installation scheme with distutils config files is deprecated and will no longer work in the near future. If you are using a Homebrew or Linuxbrew Python, please see discussion at https://github.com/Homebrew/homebrew-core/issues/76621\u001b[0m\u001b[33m\n",
            "\u001b[0m\u001b[33mDEPRECATION: Configuring installation scheme with distutils config files is deprecated and will no longer work in the near future. If you are using a Homebrew or Linuxbrew Python, please see discussion at https://github.com/Homebrew/homebrew-core/issues/76621\u001b[0m\u001b[33m\n",
            "\u001b[0mRequirement already satisfied: tqdm in /usr/local/lib/python3.9/site-packages (4.65.0)\n"
          ]
        }
      ],
      "source": [
        "!pip install tensorflow_addons\n",
        "!pip install einops\n",
        "!pip install tqdm\n",
        "!pip install tensorflow_datasets"
      ]
    },
    {
      "cell_type": "code",
      "execution_count": null,
      "metadata": {
        "colab": {
          "base_uri": "https://localhost:8080/"
        },
        "id": "doNiV36mwm1a",
        "outputId": "4338f588-f6a8-4e01-d61f-f0f494f08d5a"
      },
      "outputs": [],
      "source": [
        "import os\n",
        "import numpy as np\n",
        "import matplotlib.pyplot as plt\n",
        "from tqdm import tqdm\n",
        "import math\n",
        "from PIL import Image\n",
        "\n",
        "import tensorflow as tf\n",
        "from tensorflow import keras, einsum\n",
        "from tensorflow.keras import Model, Sequential\n",
        "from tensorflow.keras.layers import Layer\n",
        "import tensorflow.keras.layers as nn\n",
        "import tensorflow_addons as tfa\n",
        "import tensorflow_datasets as tfds\n",
        "\n",
        "from einops import rearrange\n",
        "from einops.layers.tensorflow import Rearrange\n",
        "from functools import partial\n",
        "from inspect import isfunction\n",
        "\n",
        "# Suppressing tf.hub warnings\n",
        "tf.get_logger().setLevel(\"ERROR\")\n",
        "\n",
        "# configure the GPU\n",
        "gpu_options = tf.compat.v1.GPUOptions(per_process_gpu_memory_fraction=0.8)\n",
        "config = tf.compat.v1.ConfigProto(gpu_options=gpu_options)\n",
        "session = tf.compat.v1.Session(config=config)"
      ]
    },
    {
      "cell_type": "code",
      "execution_count": null,
      "metadata": {
        "colab": {
          "base_uri": "https://localhost:8080/",
          "height": 104,
          "referenced_widgets": [
            "df050b03156f44bc96e1c78c5b26264a",
            "e084fecefcef4636b01c4f27910a6055",
            "11f34f2f6af7490387b7899b3a405170",
            "41987aeea49a421e83a0dca49f785eec",
            "db8176b0c8dd40c280f9d99a75e75cea",
            "54c87dfdc17641599605b9f8cfd425a2",
            "d608dde0fae74a17a7a05b48115211a2",
            "301be3ce67f846b7a651923143a3c52c",
            "c3554973c3884be682f9fcab18fcf0f2",
            "667c0b5e19e94a75a5dddbc552622334",
            "1bda402db57e4a96b07115690752e99e"
          ]
        },
        "id": "ryAOn1PEwtde",
        "outputId": "10d2cc69-41da-48f4-dc71-6713326a2f38"
      },
      "outputs": [
        {
          "name": "stdout",
          "output_type": "stream",
          "text": [
            "\u001b[1mDownloading and preparing dataset Unknown size (download: Unknown size, generated: Unknown size, total: Unknown size) to /Users/nico/tensorflow_datasets/mnist/3.0.1...\u001b[0m\n"
          ]
        },
        {
          "name": "stderr",
          "output_type": "stream",
          "text": [
            "2023-04-03 00:16:46.232207: W tensorflow/core/platform/cloud/google_auth_provider.cc:184] All attempts to get a Google authentication bearer token failed, returning an empty token. Retrieving token from files failed with \"NOT_FOUND: Could not locate the credentials file.\". Retrieving token from GCE failed with \"INTERNAL: Couldn't parse JSON response from OAuth server.\".\n",
            "Dl Completed...: 100%|██████████| 5/5 [00:01<00:00,  4.21 file/s]\n"
          ]
        },
        {
          "name": "stdout",
          "output_type": "stream",
          "text": [
            "\u001b[1mDataset mnist downloaded and prepared to /Users/nico/tensorflow_datasets/mnist/3.0.1. Subsequent calls will reuse this data.\u001b[0m\n"
          ]
        }
      ],
      "source": [
        "# set the parameters for dataset\n",
        "target_size = (32, 32)\n",
        "channels = 1\n",
        "BATCH_SIZE=64\n",
        "\n",
        "# Normalization helper\n",
        "def preprocess(x, y):\n",
        "    return tf.image.resize(tf.cast(x, tf.float32) / 127.5 - 1, (32, 32))\n",
        "\n",
        "def get_datasets():\n",
        "    # Load the MNIST dataset\n",
        "    train_ds = tfds.load('mnist', as_supervised=True, split=\"train\")\n",
        "\n",
        "    # Normalize to [-1, 1], shuffle and batch\n",
        "    train_ds = train_ds.map(preprocess, tf.data.AUTOTUNE)\n",
        "    train_ds = train_ds.shuffle(5000).batch(BATCH_SIZE).prefetch(tf.data.AUTOTUNE)\n",
        "\n",
        "    # Return numpy arrays instead of TF tensors while iterating\n",
        "    return tfds.as_numpy(train_ds)\n",
        "\n",
        "\n",
        "dataset = get_datasets()"
      ]
    },
    {
      "cell_type": "code",
      "execution_count": null,
      "metadata": {
        "id": "O_8IvXYBwwSA"
      },
      "outputs": [],
      "source": [
        "timesteps = 200\n",
        "\n",
        "# create a fixed beta schedule\n",
        "beta = np.linspace(0.0001, 0.02, timesteps)\n",
        "\n",
        "# this will be used as discussed in the reparameterization trick\n",
        "alpha = 1 - beta\n",
        "alpha_bar = np.cumprod(alpha, 0)\n",
        "alpha_bar = np.concatenate((np.array([1.]), alpha_bar[:-1]), axis=0)\n",
        "sqrt_alpha_bar = np.sqrt(alpha_bar)\n",
        "one_minus_sqrt_alpha_bar = np.sqrt(1-alpha_bar)\n",
        "\n",
        "# this function will help us set the RNG key for Numpy\n",
        "def set_key(key):\n",
        "    np.random.seed(key)\n",
        "\n",
        "# this function will add noise to the input as per the given timestamp\n",
        "def forward_noise(key, x_0, t):\n",
        "    set_key(key)\n",
        "    noise = np.random.normal(size=x_0.shape)\n",
        "    reshaped_sqrt_alpha_bar_t = np.reshape(np.take(sqrt_alpha_bar, t), (-1, 1, 1, 1))\n",
        "    reshaped_one_minus_sqrt_alpha_bar_t = np.reshape(np.take(one_minus_sqrt_alpha_bar, t), (-1, 1, 1, 1))\n",
        "    noisy_image = reshaped_sqrt_alpha_bar_t  * x_0 + reshaped_one_minus_sqrt_alpha_bar_t  * noise\n",
        "    return noisy_image, noise\n",
        "\n",
        "# this function will be used to create sample timestamps between 0 & T\n",
        "def generate_timestamp(key, num):\n",
        "    set_key(key)\n",
        "    return tf.random.uniform(shape=[num], minval=0, maxval=timesteps, dtype=tf.int32)\n",
        "    "
      ]
    },
    {
      "cell_type": "code",
      "execution_count": null,
      "metadata": {
        "colab": {
          "base_uri": "https://localhost:8080/",
          "height": 314
        },
        "id": "-d9Drovsw7An",
        "outputId": "4dbed065-9881-49b4-8ba3-17d6d4e02df4"
      },
      "outputs": [
        {
          "name": "stderr",
          "output_type": "stream",
          "text": [
            "2023-04-03 00:16:48.651642: W tensorflow/core/kernels/data/cache_dataset_ops.cc:768] The calling iterator did not fully read the dataset being cached. In order to avoid unexpected truncation of the dataset, the partially cached contents of the dataset  will be discarded. This can happen if you have an input pipeline similar to `dataset.cache().take(k).repeat()`. You should use `dataset.take(k).cache().repeat()` instead.\n"
          ]
        },
        {
          "data": {
            "image/png": "[encoded data removed]",
            "text/plain": [
              "<Figure size 1500x3000 with 4 Axes>"
            ]
          },
          "metadata": {},
          "output_type": "display_data"
        }
      ],
      "source": [
        "# Let us visualize the output image at a few timestamps\n",
        "sample_mnist = next(iter(dataset))[0]\n",
        "\n",
        "fig = plt.figure(figsize=(15, 30))\n",
        "\n",
        "for index, i in enumerate([10, 100, 150, 199]):\n",
        "    noisy_im, noise = forward_noise(0, np.expand_dims(sample_mnist, 0), np.array([i,]))\n",
        "    plt.subplot(1, 4, index+1)\n",
        "    plt.imshow(np.squeeze(np.squeeze(noisy_im, -1), 0), cmap='gray')\n",
        "    \n",
        "\n",
        "plt.show()"
      ]
    },
    {
      "cell_type": "code",
      "execution_count": null,
      "metadata": {
        "id": "_0VXBH_7xCbn"
      },
      "outputs": [],
      "source": [
        "# helpers functions\n",
        "def exists(x):\n",
        "    return x is not None\n",
        "\n",
        "def default(val, d):\n",
        "    if exists(val):\n",
        "        return val\n",
        "    return d() if isfunction(d) else d\n",
        "\n",
        "# We will use this to convert timestamps to time encodings\n",
        "class SinusoidalPosEmb(Layer):\n",
        "    def __init__(self, dim, max_positions=10000):\n",
        "        super(SinusoidalPosEmb, self).__init__()\n",
        "        self.dim = dim\n",
        "        self.max_positions = max_positions\n",
        "\n",
        "    def call(self, x, training=True):\n",
        "        x = tf.cast(x, tf.float32)\n",
        "        half_dim = self.dim // 2\n",
        "        emb = math.log(self.max_positions) / (half_dim - 1)\n",
        "        emb = tf.exp(tf.range(half_dim, dtype=tf.float32) * -emb)\n",
        "        emb = x[:, None] * emb[None, :]\n",
        "\n",
        "        emb = tf.concat([tf.sin(emb), tf.cos(emb)], axis=-1)\n",
        "\n",
        "        return emb\n",
        "        \n",
        "# small helper modules\n",
        "class Identity(Layer):\n",
        "    def __init__(self):\n",
        "        super(Identity, self).__init__()\n",
        "\n",
        "    def call(self, x, training=True):\n",
        "        return tf.identity(x)\n",
        "\n",
        "\n",
        "class Residual(Layer):\n",
        "    def __init__(self, fn):\n",
        "        super(Residual, self).__init__()\n",
        "        self.fn = fn\n",
        "\n",
        "    def call(self, x, training=True):\n",
        "        return self.fn(x, training=training) + x\n",
        "\n",
        "def Upsample(dim):\n",
        "    return nn.Conv2DTranspose(filters=dim, kernel_size=4, strides=2, padding='SAME')\n",
        "\n",
        "def Downsample(dim):\n",
        "    return nn.Conv2D(filters=dim, kernel_size=4, strides=2, padding='SAME')\n",
        "\n",
        "class LayerNorm(Layer):\n",
        "    def __init__(self, dim, eps=1e-5, **kwargs):\n",
        "        super(LayerNorm, self).__init__(**kwargs)\n",
        "        self.eps = eps\n",
        "\n",
        "        self.g = tf.Variable(tf.ones([1, 1, 1, dim]))\n",
        "        self.b = tf.Variable(tf.zeros([1, 1, 1, dim]))\n",
        "\n",
        "    def call(self, x, training=True):\n",
        "        var = tf.math.reduce_variance(x, axis=-1, keepdims=True)\n",
        "        mean = tf.reduce_mean(x, axis=-1, keepdims=True)\n",
        "\n",
        "        x = (x - mean) / tf.sqrt((var + self.eps)) * self.g + self.b\n",
        "        return x\n",
        "\n",
        "class PreNorm(Layer):\n",
        "    def __init__(self, dim, fn):\n",
        "        super(PreNorm, self).__init__()\n",
        "        self.fn = fn\n",
        "        self.norm = LayerNorm(dim)\n",
        "\n",
        "    def call(self, x, training=True):\n",
        "        x = self.norm(x)\n",
        "        return self.fn(x)\n",
        "\n",
        "class SiLU(Layer):\n",
        "    def __init__(self):\n",
        "        super(SiLU, self).__init__()\n",
        "\n",
        "    def call(self, x, training=True):\n",
        "        return x * tf.nn.sigmoid(x)\n",
        "\n",
        "def gelu(x, approximate=False):\n",
        "    if approximate:\n",
        "        coeff = tf.cast(0.044715, x.dtype)\n",
        "        return 0.5 * x * (1.0 + tf.tanh(0.7978845608028654 * (x + coeff * tf.pow(x, 3))))\n",
        "    else:\n",
        "        return 0.5 * x * (1.0 + tf.math.erf(x / tf.cast(1.4142135623730951, x.dtype)))\n",
        "\n",
        "class GELU(Layer):\n",
        "    def __init__(self, approximate=False):\n",
        "        super(GELU, self).__init__()\n",
        "        self.approximate = approximate\n",
        "\n",
        "    def call(self, x, training=True):\n",
        "        return gelu(x, self.approximate)"
      ]
    },
    {
      "cell_type": "code",
      "execution_count": null,
      "metadata": {
        "id": "hs_tHOVWxFNE"
      },
      "outputs": [],
      "source": [
        "# building block modules\n",
        "class Block(Layer):\n",
        "    def __init__(self, dim, groups=8):\n",
        "        super(Block, self).__init__()\n",
        "        self.proj = nn.Conv2D(dim, kernel_size=3, strides=1, padding='SAME')\n",
        "        self.norm = tfa.layers.GroupNormalization(groups, epsilon=1e-05)\n",
        "        self.act = SiLU()\n",
        "\n",
        "\n",
        "    def call(self, x, gamma_beta=None, training=True):\n",
        "        x = self.proj(x)\n",
        "        x = self.norm(x, training=training)\n",
        "\n",
        "        if exists(gamma_beta):\n",
        "            gamma, beta = gamma_beta\n",
        "            x = x * (gamma + 1) + beta\n",
        "\n",
        "        x = self.act(x)\n",
        "        return x\n",
        "\n",
        "class ResnetBlock(Layer):\n",
        "    def __init__(self, dim, dim_out, time_emb_dim=None, groups=8):\n",
        "        super(ResnetBlock, self).__init__()\n",
        "\n",
        "        self.mlp = Sequential([\n",
        "            SiLU(),\n",
        "            nn.Dense(units=dim_out * 2)\n",
        "        ]) if exists(time_emb_dim) else None\n",
        "\n",
        "        self.block1 = Block(dim_out, groups=groups)\n",
        "        self.block2 = Block(dim_out, groups=groups)\n",
        "        self.res_conv = nn.Conv2D(filters=dim_out, kernel_size=1, strides=1) if dim != dim_out else Identity()\n",
        "\n",
        "    def call(self, x, time_emb=None, training=True):\n",
        "        gamma_beta = None\n",
        "        if exists(self.mlp) and exists(time_emb):\n",
        "            time_emb = self.mlp(time_emb)\n",
        "            time_emb = rearrange(time_emb, 'b c -> b 1 1 c')\n",
        "            gamma_beta = tf.split(time_emb, num_or_size_splits=2, axis=-1)\n",
        "\n",
        "        h = self.block1(x, gamma_beta=gamma_beta, training=training)\n",
        "        h = self.block2(h, training=training)\n",
        "\n",
        "        return h + self.res_conv(x)\n",
        "\n",
        "class LinearAttention(Layer):\n",
        "    def __init__(self, dim, heads=4, dim_head=32):\n",
        "        super(LinearAttention, self).__init__()\n",
        "        self.scale = dim_head ** -0.5\n",
        "        self.heads = heads\n",
        "        self.hidden_dim = dim_head * heads\n",
        "\n",
        "        self.attend = nn.Softmax()\n",
        "        self.to_qkv = nn.Conv2D(filters=self.hidden_dim * 3, kernel_size=1, strides=1, use_bias=False)\n",
        "\n",
        "        self.to_out = Sequential([\n",
        "            nn.Conv2D(filters=dim, kernel_size=1, strides=1),\n",
        "            LayerNorm(dim)\n",
        "        ])\n",
        "\n",
        "    def call(self, x, training=True):\n",
        "        b, h, w, c = x.shape\n",
        "        qkv = self.to_qkv(x)\n",
        "        qkv = tf.split(qkv, num_or_size_splits=3, axis=-1)\n",
        "        q, k, v = map(lambda t: rearrange(t, 'b x y (h c) -> b h c (x y)', h=self.heads), qkv)\n",
        "\n",
        "        q = tf.nn.softmax(q, axis=-2)\n",
        "        k = tf.nn.softmax(k, axis=-1)\n",
        "\n",
        "        q = q * self.scale\n",
        "        context = einsum('b h d n, b h e n -> b h d e', k, v)\n",
        "\n",
        "        out = einsum('b h d e, b h d n -> b h e n', context, q)\n",
        "        out = rearrange(out, 'b h c (x y) -> b x y (h c)', h=self.heads, x=h, y=w)\n",
        "        out = self.to_out(out, training=training)\n",
        "\n",
        "        return out\n",
        "\n",
        "class Attention(Layer):\n",
        "    def __init__(self, dim, heads=4, dim_head=32):\n",
        "        super(Attention, self).__init__()\n",
        "        self.scale = dim_head ** -0.5\n",
        "        self.heads = heads\n",
        "        self.hidden_dim = dim_head * heads\n",
        "\n",
        "        self.to_qkv = nn.Conv2D(filters=self.hidden_dim * 3, kernel_size=1, strides=1, use_bias=False)\n",
        "        self.to_out = nn.Conv2D(filters=dim, kernel_size=1, strides=1)\n",
        "\n",
        "    def call(self, x, training=True):\n",
        "        b, h, w, c = x.shape\n",
        "        qkv = self.to_qkv(x)\n",
        "        qkv = tf.split(qkv, num_or_size_splits=3, axis=-1)\n",
        "        q, k, v = map(lambda t: rearrange(t, 'b x y (h c) -> b h c (x y)', h=self.heads), qkv)\n",
        "        q = q * self.scale\n",
        "\n",
        "        sim = einsum('b h d i, b h d j -> b h i j', q, k)\n",
        "        sim_max = tf.stop_gradient(tf.expand_dims(tf.argmax(sim, axis=-1), axis=-1))\n",
        "        sim_max = tf.cast(sim_max, tf.float32)\n",
        "        sim = sim - sim_max\n",
        "        attn = tf.nn.softmax(sim, axis=-1)\n",
        "\n",
        "        out = einsum('b h i j, b h d j -> b h i d', attn, v)\n",
        "        out = rearrange(out, 'b h (x y) d -> b x y (h d)', x = h, y = w)\n",
        "        out = self.to_out(out, training=training)\n",
        "\n",
        "        return out"
      ]
    },
    {
      "cell_type": "code",
      "execution_count": null,
      "metadata": {
        "id": "KNx8V1DJxQPf"
      },
      "outputs": [
        {
          "ename": "NameError",
          "evalue": "name 'Model' is not defined",
          "output_type": "error",
          "traceback": [
            "\u001b[0;31m---------------------------------------------------------------------------\u001b[0m",
            "\u001b[0;31mNameError\u001b[0m                                 Traceback (most recent call last)",
            "Cell \u001b[0;32mIn[3], line 1\u001b[0m\n\u001b[0;32m----> 1\u001b[0m \u001b[39mclass\u001b[39;00m \u001b[39mUnet\u001b[39;00m(Model):\n\u001b[1;32m      2\u001b[0m     \u001b[39mdef\u001b[39;00m \u001b[39m__init__\u001b[39m(\u001b[39mself\u001b[39m,\n\u001b[1;32m      3\u001b[0m                  dim\u001b[39m=\u001b[39m\u001b[39m64\u001b[39m,\n\u001b[1;32m      4\u001b[0m                  init_dim\u001b[39m=\u001b[39m\u001b[39mNone\u001b[39;00m,\n\u001b[0;32m   (...)\u001b[0m\n\u001b[1;32m     10\u001b[0m                  sinusoidal_cond_mlp\u001b[39m=\u001b[39m\u001b[39mTrue\u001b[39;00m\n\u001b[1;32m     11\u001b[0m                  ):\n\u001b[1;32m     12\u001b[0m         \u001b[39msuper\u001b[39m(Unet, \u001b[39mself\u001b[39m)\u001b[39m.\u001b[39m\u001b[39m__init__\u001b[39m()\n",
            "\u001b[0;31mNameError\u001b[0m: name 'Model' is not defined"
          ]
        }
      ],
      "source": [
        "class Unet(Model):\n",
        "    def __init__(self,\n",
        "                 dim=64,\n",
        "                 init_dim=None,\n",
        "                 out_dim=None,\n",
        "                 dim_mults=(1, 2, 4, 8),\n",
        "                 channels=3,\n",
        "                 resnet_block_groups=8,\n",
        "                 learned_variance=False,\n",
        "                 sinusoidal_cond_mlp=True\n",
        "                 ):\n",
        "        super(Unet, self).__init__()\n",
        "        \n",
        "        # determine dimensions\n",
        "        self.channels = channels\n",
        "        \n",
        "        init_dim = default(init_dim, dim // 3 * 2)\n",
        "        self.init_conv = nn.Conv2D(filters=init_dim, kernel_size=7, strides=1, padding='SAME')\n",
        "        \n",
        "        dims = [init_dim, *map(lambda m: dim * m, dim_mults)]\n",
        "        in_out = list(zip(dims[:-1], dims[1:]))\n",
        "        \n",
        "        block_klass = partial(ResnetBlock, groups = resnet_block_groups)\n",
        "        \n",
        "        # time embeddings\n",
        "        time_dim = dim * 4\n",
        "        self.sinusoidal_cond_mlp = sinusoidal_cond_mlp\n",
        "        \n",
        "        self.time_mlp = Sequential([\n",
        "            SinusoidalPosEmb(dim),\n",
        "            nn.Dense(units=time_dim),\n",
        "            GELU(),\n",
        "            nn.Dense(units=time_dim)\n",
        "        ], name=\"time embeddings\")\n",
        "        \n",
        "        # layers\n",
        "        self.downs = []\n",
        "        self.ups = []\n",
        "        num_resolutions = len(in_out)\n",
        "        \n",
        "        for ind, (dim_in, dim_out) in enumerate(in_out):\n",
        "            is_last = ind >= (num_resolutions - 1)\n",
        "\n",
        "            self.downs.append([\n",
        "                block_klass(dim_in, dim_out, time_emb_dim=time_dim),\n",
        "                block_klass(dim_out, dim_out, time_emb_dim=time_dim),\n",
        "                Residual(PreNorm(dim_out, LinearAttention(dim_out))),\n",
        "                Downsample(dim_out) if not is_last else Identity()\n",
        "            ])\n",
        "  \n",
        "        mid_dim = dims[-1]\n",
        "        self.mid_block1 = block_klass(mid_dim, mid_dim, time_emb_dim=time_dim)\n",
        "        self.mid_attn = Residual(PreNorm(mid_dim, Attention(mid_dim)))\n",
        "        self.mid_block2 = block_klass(mid_dim, mid_dim, time_emb_dim=time_dim)\n",
        "        \n",
        "        for ind, (dim_in, dim_out) in enumerate(reversed(in_out[1:])):\n",
        "            is_last = ind >= (num_resolutions - 1)\n",
        "\n",
        "            self.ups.append([\n",
        "                block_klass(dim_out * 2, dim_in, time_emb_dim=time_dim),\n",
        "                block_klass(dim_in, dim_in, time_emb_dim=time_dim),\n",
        "                Residual(PreNorm(dim_in, LinearAttention(dim_in))),\n",
        "                Upsample(dim_in) if not is_last else Identity()\n",
        "            ])\n",
        "        \n",
        "        default_out_dim = channels * (1 if not learned_variance else 2)\n",
        "        self.out_dim = default(out_dim, default_out_dim)\n",
        "        \n",
        "        self.final_conv = Sequential([\n",
        "            block_klass(dim * 2, dim),\n",
        "            nn.Conv2D(filters=self.out_dim, kernel_size=1, strides=1)\n",
        "        ], name=\"output\")\n",
        "        \n",
        "    def call(self, x, time=None, training=True, **kwargs):\n",
        "        x = self.init_conv(x)\n",
        "        t = self.time_mlp(time)\n",
        "        \n",
        "        h = []\n",
        "\n",
        "        for block1, block2, attn, downsample in self.downs:\n",
        "            x = block1(x, t)\n",
        "            x = block2(x, t)\n",
        "            x = attn(x)\n",
        "            h.append(x)\n",
        "            x = downsample(x)\n",
        "\n",
        "        x = self.mid_block1(x, t)\n",
        "        x = self.mid_attn(x)\n",
        "        x = self.mid_block2(x, t)\n",
        "\n",
        "        for block1, block2, attn, upsample in self.ups:\n",
        "            x = tf.concat([x, h.pop()], axis=-1)\n",
        "            x = block1(x, t)\n",
        "            x = block2(x, t)\n",
        "            x = attn(x)\n",
        "            x = upsample(x)\n",
        "\n",
        "        x = tf.concat([x, h.pop()], axis=-1)\n",
        "        x = self.final_conv(x)\n",
        "        return x"
      ]
    },
    {
      "cell_type": "code",
      "execution_count": null,
      "metadata": {
        "colab": {
          "base_uri": "https://localhost:8080/"
        },
        "id": "nhXGI9ACxScG",
        "outputId": "d121e745-c38a-46fa-d425-d3337cc0d19a"
      },
      "outputs": [
        {
          "name": "stdout",
          "output_type": "stream",
          "text": [
            "Initializing from scratch.\n"
          ]
        }
      ],
      "source": [
        "# create our unet model\n",
        "unet = Unet(channels=1)\n",
        "\n",
        "# create our checkopint manager\n",
        "ckpt = tf.train.Checkpoint(unet=unet)\n",
        "ckpt_manager = tf.train.CheckpointManager(ckpt, \"./checkpoints\", max_to_keep=2)\n",
        "\n",
        "# load from a previous checkpoint if it exists, else initialize the model from scratch\n",
        "if ckpt_manager.latest_checkpoint:\n",
        "    ckpt.restore(ckpt_manager.latest_checkpoint)\n",
        "    start_interation = int(ckpt_manager.latest_checkpoint.split(\"-\")[-1])\n",
        "    print(\"Restored from {}\".format(ckpt_manager.latest_checkpoint))\n",
        "else:\n",
        "    print(\"Initializing from scratch.\")\n",
        "\n",
        "# initialize the model in the memory of our GPU\n",
        "test_images = np.ones([1, 32, 32, 1])\n",
        "test_timestamps = generate_timestamp(0, 1)\n",
        "k = unet(test_images, test_timestamps)\n",
        "\n",
        "# create our optimizer, we will use adam with a Learning rate of 1e-4\n",
        "opt = keras.optimizers.Adam(learning_rate=1e-4)"
      ]
    },
    {
      "cell_type": "code",
      "execution_count": null,
      "metadata": {
        "id": "9qOobsKhxVMC"
      },
      "outputs": [],
      "source": [
        "def loss_fn(real, generated):\n",
        "    loss = tf.math.reduce_mean((real - generated) ** 2)\n",
        "    return loss"
      ]
    },
    {
      "cell_type": "code",
      "execution_count": null,
      "metadata": {
        "id": "jAlyeilfxcuC"
      },
      "outputs": [],
      "source": [
        "rng = 0\n",
        "\n",
        "def train_step(batch):\n",
        "    rng, tsrng = np.random.randint(0, 100000, size=(2,))\n",
        "    timestep_values = generate_timestamp(tsrng, batch.shape[0])\n",
        "\n",
        "    noised_image, noise = forward_noise(rng, batch, timestep_values)\n",
        "    with tf.GradientTape() as tape:\n",
        "        prediction = unet(noised_image, timestep_values)\n",
        "        \n",
        "        loss_value = loss_fn(noise, prediction)\n",
        "    \n",
        "    gradients = tape.gradient(loss_value, unet.trainable_variables)\n",
        "    opt.apply_gradients(zip(gradients, unet.trainable_variables))\n",
        "\n",
        "    return loss_value"
      ]
    },
    {
      "cell_type": "code",
      "execution_count": null,
      "metadata": {
        "colab": {
          "background_save": true,
          "base_uri": "https://localhost:8080/"
        },
        "id": "CWQ6s99Pxeg9",
        "outputId": "e1afa268-3bf2-429f-e4ff-7fd1773e3234"
      },
      "outputs": [
        {
          "name": "stdout",
          "output_type": "stream",
          "text": [
            "-1.0 1.0\n"
          ]
        },
        {
          "name": "stderr",
          "output_type": "stream",
          "text": [
            "2023-04-03 00:20:15.299022: W tensorflow/core/kernels/data/cache_dataset_ops.cc:768] The calling iterator did not fully read the dataset being cached. In order to avoid unexpected truncation of the dataset, the partially cached contents of the dataset  will be discarded. This can happen if you have an input pipeline similar to `dataset.cache().take(k).repeat()`. You should use `dataset.take(k).cache().repeat()` instead.\n"
          ]
        },
        {
          "ename": "KeyboardInterrupt",
          "evalue": "",
          "output_type": "error",
          "traceback": [
            "\u001b[0;31m---------------------------------------------------------------------------\u001b[0m",
            "\u001b[0;31mKeyboardInterrupt\u001b[0m                         Traceback (most recent call last)",
            "Cell \u001b[0;32mIn[21], line 9\u001b[0m\n\u001b[1;32m      7\u001b[0m \u001b[39mprint\u001b[39m(batch\u001b[39m.\u001b[39mmin(), batch\u001b[39m.\u001b[39mmax())\n\u001b[1;32m      8\u001b[0m \u001b[39m# run the training loop\u001b[39;00m\n\u001b[0;32m----> 9\u001b[0m loss \u001b[39m=\u001b[39m train_step(batch)\n\u001b[1;32m     10\u001b[0m losses\u001b[39m.\u001b[39mappend(loss)\n\u001b[1;32m     11\u001b[0m bar\u001b[39m.\u001b[39mupdate(i, values\u001b[39m=\u001b[39m[(\u001b[39m\"\u001b[39m\u001b[39mloss\u001b[39m\u001b[39m\"\u001b[39m, loss)])\n",
            "Cell \u001b[0;32mIn[18], line 9\u001b[0m, in \u001b[0;36mtrain_step\u001b[0;34m(batch)\u001b[0m\n\u001b[1;32m      7\u001b[0m noised_image, noise \u001b[39m=\u001b[39m forward_noise(rng, batch, timestep_values)\n\u001b[1;32m      8\u001b[0m \u001b[39mwith\u001b[39;00m tf\u001b[39m.\u001b[39mGradientTape() \u001b[39mas\u001b[39;00m tape:\n\u001b[0;32m----> 9\u001b[0m     prediction \u001b[39m=\u001b[39m unet(noised_image, timestep_values)\n\u001b[1;32m     11\u001b[0m     loss_value \u001b[39m=\u001b[39m loss_fn(noise, prediction)\n\u001b[1;32m     13\u001b[0m gradients \u001b[39m=\u001b[39m tape\u001b[39m.\u001b[39mgradient(loss_value, unet\u001b[39m.\u001b[39mtrainable_variables)\n",
            "File \u001b[0;32m/usr/local/lib/python3.9/site-packages/keras/utils/traceback_utils.py:64\u001b[0m, in \u001b[0;36mfilter_traceback.<locals>.error_handler\u001b[0;34m(*args, **kwargs)\u001b[0m\n\u001b[1;32m     62\u001b[0m filtered_tb \u001b[39m=\u001b[39m \u001b[39mNone\u001b[39;00m\n\u001b[1;32m     63\u001b[0m \u001b[39mtry\u001b[39;00m:\n\u001b[0;32m---> 64\u001b[0m   \u001b[39mreturn\u001b[39;00m fn(\u001b[39m*\u001b[39;49margs, \u001b[39m*\u001b[39;49m\u001b[39m*\u001b[39;49mkwargs)\n\u001b[1;32m     65\u001b[0m \u001b[39mexcept\u001b[39;00m \u001b[39mException\u001b[39;00m \u001b[39mas\u001b[39;00m e:  \u001b[39m# pylint: disable=broad-except\u001b[39;00m\n\u001b[1;32m     66\u001b[0m   filtered_tb \u001b[39m=\u001b[39m _process_traceback_frames(e\u001b[39m.\u001b[39m__traceback__)\n",
            "File \u001b[0;32m/usr/local/lib/python3.9/site-packages/keras/engine/base_layer.py:1096\u001b[0m, in \u001b[0;36mLayer.__call__\u001b[0;34m(self, *args, **kwargs)\u001b[0m\n\u001b[1;32m   1092\u001b[0m   inputs \u001b[39m=\u001b[39m \u001b[39mself\u001b[39m\u001b[39m.\u001b[39m_maybe_cast_inputs(inputs, input_list)\n\u001b[1;32m   1094\u001b[0m \u001b[39mwith\u001b[39;00m autocast_variable\u001b[39m.\u001b[39menable_auto_cast_variables(\n\u001b[1;32m   1095\u001b[0m     \u001b[39mself\u001b[39m\u001b[39m.\u001b[39m_compute_dtype_object):\n\u001b[0;32m-> 1096\u001b[0m   outputs \u001b[39m=\u001b[39m call_fn(inputs, \u001b[39m*\u001b[39;49margs, \u001b[39m*\u001b[39;49m\u001b[39m*\u001b[39;49mkwargs)\n\u001b[1;32m   1098\u001b[0m \u001b[39mif\u001b[39;00m \u001b[39mself\u001b[39m\u001b[39m.\u001b[39m_activity_regularizer:\n\u001b[1;32m   1099\u001b[0m   \u001b[39mself\u001b[39m\u001b[39m.\u001b[39m_handle_activity_regularization(inputs, outputs)\n",
            "File \u001b[0;32m/usr/local/lib/python3.9/site-packages/keras/utils/traceback_utils.py:92\u001b[0m, in \u001b[0;36minject_argument_info_in_traceback.<locals>.error_handler\u001b[0;34m(*args, **kwargs)\u001b[0m\n\u001b[1;32m     90\u001b[0m bound_signature \u001b[39m=\u001b[39m \u001b[39mNone\u001b[39;00m\n\u001b[1;32m     91\u001b[0m \u001b[39mtry\u001b[39;00m:\n\u001b[0;32m---> 92\u001b[0m   \u001b[39mreturn\u001b[39;00m fn(\u001b[39m*\u001b[39;49margs, \u001b[39m*\u001b[39;49m\u001b[39m*\u001b[39;49mkwargs)\n\u001b[1;32m     93\u001b[0m \u001b[39mexcept\u001b[39;00m \u001b[39mException\u001b[39;00m \u001b[39mas\u001b[39;00m e:  \u001b[39m# pylint: disable=broad-except\u001b[39;00m\n\u001b[1;32m     94\u001b[0m   \u001b[39mif\u001b[39;00m \u001b[39mhasattr\u001b[39m(e, \u001b[39m'\u001b[39m\u001b[39m_keras_call_info_injected\u001b[39m\u001b[39m'\u001b[39m):\n\u001b[1;32m     95\u001b[0m     \u001b[39m# Only inject info for the innermost failing call\u001b[39;00m\n",
            "Cell \u001b[0;32mIn[15], line 93\u001b[0m, in \u001b[0;36mUnet.call\u001b[0;34m(self, x, time, training, **kwargs)\u001b[0m\n\u001b[1;32m     91\u001b[0m \u001b[39mfor\u001b[39;00m block1, block2, attn, upsample \u001b[39min\u001b[39;00m \u001b[39mself\u001b[39m\u001b[39m.\u001b[39mups:\n\u001b[1;32m     92\u001b[0m     x \u001b[39m=\u001b[39m tf\u001b[39m.\u001b[39mconcat([x, h\u001b[39m.\u001b[39mpop()], axis\u001b[39m=\u001b[39m\u001b[39m-\u001b[39m\u001b[39m1\u001b[39m)\n\u001b[0;32m---> 93\u001b[0m     x \u001b[39m=\u001b[39m block1(x, t)\n\u001b[1;32m     94\u001b[0m     x \u001b[39m=\u001b[39m block2(x, t)\n\u001b[1;32m     95\u001b[0m     x \u001b[39m=\u001b[39m attn(x)\n",
            "File \u001b[0;32m/usr/local/lib/python3.9/site-packages/keras/utils/traceback_utils.py:64\u001b[0m, in \u001b[0;36mfilter_traceback.<locals>.error_handler\u001b[0;34m(*args, **kwargs)\u001b[0m\n\u001b[1;32m     62\u001b[0m filtered_tb \u001b[39m=\u001b[39m \u001b[39mNone\u001b[39;00m\n\u001b[1;32m     63\u001b[0m \u001b[39mtry\u001b[39;00m:\n\u001b[0;32m---> 64\u001b[0m   \u001b[39mreturn\u001b[39;00m fn(\u001b[39m*\u001b[39;49margs, \u001b[39m*\u001b[39;49m\u001b[39m*\u001b[39;49mkwargs)\n\u001b[1;32m     65\u001b[0m \u001b[39mexcept\u001b[39;00m \u001b[39mException\u001b[39;00m \u001b[39mas\u001b[39;00m e:  \u001b[39m# pylint: disable=broad-except\u001b[39;00m\n\u001b[1;32m     66\u001b[0m   filtered_tb \u001b[39m=\u001b[39m _process_traceback_frames(e\u001b[39m.\u001b[39m__traceback__)\n",
            "File \u001b[0;32m/usr/local/lib/python3.9/site-packages/keras/engine/base_layer.py:1096\u001b[0m, in \u001b[0;36mLayer.__call__\u001b[0;34m(self, *args, **kwargs)\u001b[0m\n\u001b[1;32m   1092\u001b[0m   inputs \u001b[39m=\u001b[39m \u001b[39mself\u001b[39m\u001b[39m.\u001b[39m_maybe_cast_inputs(inputs, input_list)\n\u001b[1;32m   1094\u001b[0m \u001b[39mwith\u001b[39;00m autocast_variable\u001b[39m.\u001b[39menable_auto_cast_variables(\n\u001b[1;32m   1095\u001b[0m     \u001b[39mself\u001b[39m\u001b[39m.\u001b[39m_compute_dtype_object):\n\u001b[0;32m-> 1096\u001b[0m   outputs \u001b[39m=\u001b[39m call_fn(inputs, \u001b[39m*\u001b[39;49margs, \u001b[39m*\u001b[39;49m\u001b[39m*\u001b[39;49mkwargs)\n\u001b[1;32m   1098\u001b[0m \u001b[39mif\u001b[39;00m \u001b[39mself\u001b[39m\u001b[39m.\u001b[39m_activity_regularizer:\n\u001b[1;32m   1099\u001b[0m   \u001b[39mself\u001b[39m\u001b[39m.\u001b[39m_handle_activity_regularization(inputs, outputs)\n",
            "File \u001b[0;32m/usr/local/lib/python3.9/site-packages/keras/utils/traceback_utils.py:92\u001b[0m, in \u001b[0;36minject_argument_info_in_traceback.<locals>.error_handler\u001b[0;34m(*args, **kwargs)\u001b[0m\n\u001b[1;32m     90\u001b[0m bound_signature \u001b[39m=\u001b[39m \u001b[39mNone\u001b[39;00m\n\u001b[1;32m     91\u001b[0m \u001b[39mtry\u001b[39;00m:\n\u001b[0;32m---> 92\u001b[0m   \u001b[39mreturn\u001b[39;00m fn(\u001b[39m*\u001b[39;49margs, \u001b[39m*\u001b[39;49m\u001b[39m*\u001b[39;49mkwargs)\n\u001b[1;32m     93\u001b[0m \u001b[39mexcept\u001b[39;00m \u001b[39mException\u001b[39;00m \u001b[39mas\u001b[39;00m e:  \u001b[39m# pylint: disable=broad-except\u001b[39;00m\n\u001b[1;32m     94\u001b[0m   \u001b[39mif\u001b[39;00m \u001b[39mhasattr\u001b[39m(e, \u001b[39m'\u001b[39m\u001b[39m_keras_call_info_injected\u001b[39m\u001b[39m'\u001b[39m):\n\u001b[1;32m     95\u001b[0m     \u001b[39m# Only inject info for the innermost failing call\u001b[39;00m\n",
            "Cell \u001b[0;32mIn[14], line 41\u001b[0m, in \u001b[0;36mResnetBlock.call\u001b[0;34m(self, x, time_emb, training)\u001b[0m\n\u001b[1;32m     38\u001b[0m     time_emb \u001b[39m=\u001b[39m rearrange(time_emb, \u001b[39m'\u001b[39m\u001b[39mb c -> b 1 1 c\u001b[39m\u001b[39m'\u001b[39m)\n\u001b[1;32m     39\u001b[0m     gamma_beta \u001b[39m=\u001b[39m tf\u001b[39m.\u001b[39msplit(time_emb, num_or_size_splits\u001b[39m=\u001b[39m\u001b[39m2\u001b[39m, axis\u001b[39m=\u001b[39m\u001b[39m-\u001b[39m\u001b[39m1\u001b[39m)\n\u001b[0;32m---> 41\u001b[0m h \u001b[39m=\u001b[39m \u001b[39mself\u001b[39;49m\u001b[39m.\u001b[39;49mblock1(x, gamma_beta\u001b[39m=\u001b[39;49mgamma_beta, training\u001b[39m=\u001b[39;49mtraining)\n\u001b[1;32m     42\u001b[0m h \u001b[39m=\u001b[39m \u001b[39mself\u001b[39m\u001b[39m.\u001b[39mblock2(h, training\u001b[39m=\u001b[39mtraining)\n\u001b[1;32m     44\u001b[0m \u001b[39mreturn\u001b[39;00m h \u001b[39m+\u001b[39m \u001b[39mself\u001b[39m\u001b[39m.\u001b[39mres_conv(x)\n",
            "File \u001b[0;32m/usr/local/lib/python3.9/site-packages/keras/utils/traceback_utils.py:64\u001b[0m, in \u001b[0;36mfilter_traceback.<locals>.error_handler\u001b[0;34m(*args, **kwargs)\u001b[0m\n\u001b[1;32m     62\u001b[0m filtered_tb \u001b[39m=\u001b[39m \u001b[39mNone\u001b[39;00m\n\u001b[1;32m     63\u001b[0m \u001b[39mtry\u001b[39;00m:\n\u001b[0;32m---> 64\u001b[0m   \u001b[39mreturn\u001b[39;00m fn(\u001b[39m*\u001b[39;49margs, \u001b[39m*\u001b[39;49m\u001b[39m*\u001b[39;49mkwargs)\n\u001b[1;32m     65\u001b[0m \u001b[39mexcept\u001b[39;00m \u001b[39mException\u001b[39;00m \u001b[39mas\u001b[39;00m e:  \u001b[39m# pylint: disable=broad-except\u001b[39;00m\n\u001b[1;32m     66\u001b[0m   filtered_tb \u001b[39m=\u001b[39m _process_traceback_frames(e\u001b[39m.\u001b[39m__traceback__)\n",
            "File \u001b[0;32m/usr/local/lib/python3.9/site-packages/keras/engine/base_layer.py:1096\u001b[0m, in \u001b[0;36mLayer.__call__\u001b[0;34m(self, *args, **kwargs)\u001b[0m\n\u001b[1;32m   1092\u001b[0m   inputs \u001b[39m=\u001b[39m \u001b[39mself\u001b[39m\u001b[39m.\u001b[39m_maybe_cast_inputs(inputs, input_list)\n\u001b[1;32m   1094\u001b[0m \u001b[39mwith\u001b[39;00m autocast_variable\u001b[39m.\u001b[39menable_auto_cast_variables(\n\u001b[1;32m   1095\u001b[0m     \u001b[39mself\u001b[39m\u001b[39m.\u001b[39m_compute_dtype_object):\n\u001b[0;32m-> 1096\u001b[0m   outputs \u001b[39m=\u001b[39m call_fn(inputs, \u001b[39m*\u001b[39;49margs, \u001b[39m*\u001b[39;49m\u001b[39m*\u001b[39;49mkwargs)\n\u001b[1;32m   1098\u001b[0m \u001b[39mif\u001b[39;00m \u001b[39mself\u001b[39m\u001b[39m.\u001b[39m_activity_regularizer:\n\u001b[1;32m   1099\u001b[0m   \u001b[39mself\u001b[39m\u001b[39m.\u001b[39m_handle_activity_regularization(inputs, outputs)\n",
            "File \u001b[0;32m/usr/local/lib/python3.9/site-packages/keras/utils/traceback_utils.py:92\u001b[0m, in \u001b[0;36minject_argument_info_in_traceback.<locals>.error_handler\u001b[0;34m(*args, **kwargs)\u001b[0m\n\u001b[1;32m     90\u001b[0m bound_signature \u001b[39m=\u001b[39m \u001b[39mNone\u001b[39;00m\n\u001b[1;32m     91\u001b[0m \u001b[39mtry\u001b[39;00m:\n\u001b[0;32m---> 92\u001b[0m   \u001b[39mreturn\u001b[39;00m fn(\u001b[39m*\u001b[39;49margs, \u001b[39m*\u001b[39;49m\u001b[39m*\u001b[39;49mkwargs)\n\u001b[1;32m     93\u001b[0m \u001b[39mexcept\u001b[39;00m \u001b[39mException\u001b[39;00m \u001b[39mas\u001b[39;00m e:  \u001b[39m# pylint: disable=broad-except\u001b[39;00m\n\u001b[1;32m     94\u001b[0m   \u001b[39mif\u001b[39;00m \u001b[39mhasattr\u001b[39m(e, \u001b[39m'\u001b[39m\u001b[39m_keras_call_info_injected\u001b[39m\u001b[39m'\u001b[39m):\n\u001b[1;32m     95\u001b[0m     \u001b[39m# Only inject info for the innermost failing call\u001b[39;00m\n",
            "Cell \u001b[0;32mIn[14], line 11\u001b[0m, in \u001b[0;36mBlock.call\u001b[0;34m(self, x, gamma_beta, training)\u001b[0m\n\u001b[1;32m     10\u001b[0m \u001b[39mdef\u001b[39;00m \u001b[39mcall\u001b[39m(\u001b[39mself\u001b[39m, x, gamma_beta\u001b[39m=\u001b[39m\u001b[39mNone\u001b[39;00m, training\u001b[39m=\u001b[39m\u001b[39mTrue\u001b[39;00m):\n\u001b[0;32m---> 11\u001b[0m     x \u001b[39m=\u001b[39m \u001b[39mself\u001b[39;49m\u001b[39m.\u001b[39;49mproj(x)\n\u001b[1;32m     12\u001b[0m     x \u001b[39m=\u001b[39m \u001b[39mself\u001b[39m\u001b[39m.\u001b[39mnorm(x, training\u001b[39m=\u001b[39mtraining)\n\u001b[1;32m     14\u001b[0m     \u001b[39mif\u001b[39;00m exists(gamma_beta):\n",
            "File \u001b[0;32m/usr/local/lib/python3.9/site-packages/keras/utils/traceback_utils.py:64\u001b[0m, in \u001b[0;36mfilter_traceback.<locals>.error_handler\u001b[0;34m(*args, **kwargs)\u001b[0m\n\u001b[1;32m     62\u001b[0m filtered_tb \u001b[39m=\u001b[39m \u001b[39mNone\u001b[39;00m\n\u001b[1;32m     63\u001b[0m \u001b[39mtry\u001b[39;00m:\n\u001b[0;32m---> 64\u001b[0m   \u001b[39mreturn\u001b[39;00m fn(\u001b[39m*\u001b[39;49margs, \u001b[39m*\u001b[39;49m\u001b[39m*\u001b[39;49mkwargs)\n\u001b[1;32m     65\u001b[0m \u001b[39mexcept\u001b[39;00m \u001b[39mException\u001b[39;00m \u001b[39mas\u001b[39;00m e:  \u001b[39m# pylint: disable=broad-except\u001b[39;00m\n\u001b[1;32m     66\u001b[0m   filtered_tb \u001b[39m=\u001b[39m _process_traceback_frames(e\u001b[39m.\u001b[39m__traceback__)\n",
            "File \u001b[0;32m/usr/local/lib/python3.9/site-packages/keras/engine/base_layer.py:1096\u001b[0m, in \u001b[0;36mLayer.__call__\u001b[0;34m(self, *args, **kwargs)\u001b[0m\n\u001b[1;32m   1092\u001b[0m   inputs \u001b[39m=\u001b[39m \u001b[39mself\u001b[39m\u001b[39m.\u001b[39m_maybe_cast_inputs(inputs, input_list)\n\u001b[1;32m   1094\u001b[0m \u001b[39mwith\u001b[39;00m autocast_variable\u001b[39m.\u001b[39menable_auto_cast_variables(\n\u001b[1;32m   1095\u001b[0m     \u001b[39mself\u001b[39m\u001b[39m.\u001b[39m_compute_dtype_object):\n\u001b[0;32m-> 1096\u001b[0m   outputs \u001b[39m=\u001b[39m call_fn(inputs, \u001b[39m*\u001b[39;49margs, \u001b[39m*\u001b[39;49m\u001b[39m*\u001b[39;49mkwargs)\n\u001b[1;32m   1098\u001b[0m \u001b[39mif\u001b[39;00m \u001b[39mself\u001b[39m\u001b[39m.\u001b[39m_activity_regularizer:\n\u001b[1;32m   1099\u001b[0m   \u001b[39mself\u001b[39m\u001b[39m.\u001b[39m_handle_activity_regularization(inputs, outputs)\n",
            "File \u001b[0;32m/usr/local/lib/python3.9/site-packages/keras/utils/traceback_utils.py:92\u001b[0m, in \u001b[0;36minject_argument_info_in_traceback.<locals>.error_handler\u001b[0;34m(*args, **kwargs)\u001b[0m\n\u001b[1;32m     90\u001b[0m bound_signature \u001b[39m=\u001b[39m \u001b[39mNone\u001b[39;00m\n\u001b[1;32m     91\u001b[0m \u001b[39mtry\u001b[39;00m:\n\u001b[0;32m---> 92\u001b[0m   \u001b[39mreturn\u001b[39;00m fn(\u001b[39m*\u001b[39;49margs, \u001b[39m*\u001b[39;49m\u001b[39m*\u001b[39;49mkwargs)\n\u001b[1;32m     93\u001b[0m \u001b[39mexcept\u001b[39;00m \u001b[39mException\u001b[39;00m \u001b[39mas\u001b[39;00m e:  \u001b[39m# pylint: disable=broad-except\u001b[39;00m\n\u001b[1;32m     94\u001b[0m   \u001b[39mif\u001b[39;00m \u001b[39mhasattr\u001b[39m(e, \u001b[39m'\u001b[39m\u001b[39m_keras_call_info_injected\u001b[39m\u001b[39m'\u001b[39m):\n\u001b[1;32m     95\u001b[0m     \u001b[39m# Only inject info for the innermost failing call\u001b[39;00m\n",
            "File \u001b[0;32m/usr/local/lib/python3.9/site-packages/keras/layers/convolutional.py:248\u001b[0m, in \u001b[0;36mConv.call\u001b[0;34m(self, inputs)\u001b[0m\n\u001b[1;32m    245\u001b[0m \u001b[39mif\u001b[39;00m \u001b[39mself\u001b[39m\u001b[39m.\u001b[39m_is_causal:  \u001b[39m# Apply causal padding to inputs for Conv1D.\u001b[39;00m\n\u001b[1;32m    246\u001b[0m   inputs \u001b[39m=\u001b[39m tf\u001b[39m.\u001b[39mpad(inputs, \u001b[39mself\u001b[39m\u001b[39m.\u001b[39m_compute_causal_padding(inputs))\n\u001b[0;32m--> 248\u001b[0m outputs \u001b[39m=\u001b[39m \u001b[39mself\u001b[39;49m\u001b[39m.\u001b[39;49mconvolution_op(inputs, \u001b[39mself\u001b[39;49m\u001b[39m.\u001b[39;49mkernel)\n\u001b[1;32m    250\u001b[0m \u001b[39mif\u001b[39;00m \u001b[39mself\u001b[39m\u001b[39m.\u001b[39muse_bias:\n\u001b[1;32m    251\u001b[0m   output_rank \u001b[39m=\u001b[39m outputs\u001b[39m.\u001b[39mshape\u001b[39m.\u001b[39mrank\n",
            "File \u001b[0;32m/usr/local/lib/python3.9/site-packages/keras/layers/convolutional.py:233\u001b[0m, in \u001b[0;36mConv.convolution_op\u001b[0;34m(self, inputs, kernel)\u001b[0m\n\u001b[1;32m    230\u001b[0m \u001b[39melse\u001b[39;00m:\n\u001b[1;32m    231\u001b[0m   tf_padding \u001b[39m=\u001b[39m \u001b[39mself\u001b[39m\u001b[39m.\u001b[39mpadding\n\u001b[0;32m--> 233\u001b[0m \u001b[39mreturn\u001b[39;00m tf\u001b[39m.\u001b[39;49mnn\u001b[39m.\u001b[39;49mconvolution(\n\u001b[1;32m    234\u001b[0m     inputs,\n\u001b[1;32m    235\u001b[0m     kernel,\n\u001b[1;32m    236\u001b[0m     strides\u001b[39m=\u001b[39;49m\u001b[39mlist\u001b[39;49m(\u001b[39mself\u001b[39;49m\u001b[39m.\u001b[39;49mstrides),\n\u001b[1;32m    237\u001b[0m     padding\u001b[39m=\u001b[39;49mtf_padding,\n\u001b[1;32m    238\u001b[0m     dilations\u001b[39m=\u001b[39;49m\u001b[39mlist\u001b[39;49m(\u001b[39mself\u001b[39;49m\u001b[39m.\u001b[39;49mdilation_rate),\n\u001b[1;32m    239\u001b[0m     data_format\u001b[39m=\u001b[39;49m\u001b[39mself\u001b[39;49m\u001b[39m.\u001b[39;49m_tf_data_format,\n\u001b[1;32m    240\u001b[0m     name\u001b[39m=\u001b[39;49m\u001b[39mself\u001b[39;49m\u001b[39m.\u001b[39;49m\u001b[39m__class__\u001b[39;49m\u001b[39m.\u001b[39;49m\u001b[39m__name__\u001b[39;49m)\n",
            "File \u001b[0;32m/usr/local/lib/python3.9/site-packages/tensorflow/python/util/traceback_utils.py:150\u001b[0m, in \u001b[0;36mfilter_traceback.<locals>.error_handler\u001b[0;34m(*args, **kwargs)\u001b[0m\n\u001b[1;32m    148\u001b[0m filtered_tb \u001b[39m=\u001b[39m \u001b[39mNone\u001b[39;00m\n\u001b[1;32m    149\u001b[0m \u001b[39mtry\u001b[39;00m:\n\u001b[0;32m--> 150\u001b[0m   \u001b[39mreturn\u001b[39;00m fn(\u001b[39m*\u001b[39;49margs, \u001b[39m*\u001b[39;49m\u001b[39m*\u001b[39;49mkwargs)\n\u001b[1;32m    151\u001b[0m \u001b[39mexcept\u001b[39;00m \u001b[39mException\u001b[39;00m \u001b[39mas\u001b[39;00m e:\n\u001b[1;32m    152\u001b[0m   filtered_tb \u001b[39m=\u001b[39m _process_traceback_frames(e\u001b[39m.\u001b[39m__traceback__)\n",
            "File \u001b[0;32m/usr/local/lib/python3.9/site-packages/tensorflow/python/util/dispatch.py:1082\u001b[0m, in \u001b[0;36madd_dispatch_support.<locals>.decorator.<locals>.op_dispatch_handler\u001b[0;34m(*args, **kwargs)\u001b[0m\n\u001b[1;32m   1080\u001b[0m \u001b[39m# Fallback dispatch system (dispatch v1):\u001b[39;00m\n\u001b[1;32m   1081\u001b[0m \u001b[39mtry\u001b[39;00m:\n\u001b[0;32m-> 1082\u001b[0m   \u001b[39mreturn\u001b[39;00m dispatch_target(\u001b[39m*\u001b[39;49margs, \u001b[39m*\u001b[39;49m\u001b[39m*\u001b[39;49mkwargs)\n\u001b[1;32m   1083\u001b[0m \u001b[39mexcept\u001b[39;00m (\u001b[39mTypeError\u001b[39;00m, \u001b[39mValueError\u001b[39;00m):\n\u001b[1;32m   1084\u001b[0m   \u001b[39m# Note: convert_to_eager_tensor currently raises a ValueError, not a\u001b[39;00m\n\u001b[1;32m   1085\u001b[0m   \u001b[39m# TypeError, when given unexpected types.  So we need to catch both.\u001b[39;00m\n\u001b[1;32m   1086\u001b[0m   result \u001b[39m=\u001b[39m dispatch(op_dispatch_handler, args, kwargs)\n",
            "File \u001b[0;32m/usr/local/lib/python3.9/site-packages/tensorflow/python/ops/nn_ops.py:1148\u001b[0m, in \u001b[0;36mconvolution_v2\u001b[0;34m(input, filters, strides, padding, data_format, dilations, name)\u001b[0m\n\u001b[1;32m   1138\u001b[0m \u001b[39m@tf_export\u001b[39m(\u001b[39m\"\u001b[39m\u001b[39mnn.convolution\u001b[39m\u001b[39m\"\u001b[39m, v1\u001b[39m=\u001b[39m[])\n\u001b[1;32m   1139\u001b[0m \u001b[39m@dispatch\u001b[39m\u001b[39m.\u001b[39madd_dispatch_support\n\u001b[1;32m   1140\u001b[0m \u001b[39mdef\u001b[39;00m \u001b[39mconvolution_v2\u001b[39m(  \u001b[39m# pylint: disable=missing-docstring\u001b[39;00m\n\u001b[0;32m   (...)\u001b[0m\n\u001b[1;32m   1146\u001b[0m     dilations\u001b[39m=\u001b[39m\u001b[39mNone\u001b[39;00m,\n\u001b[1;32m   1147\u001b[0m     name\u001b[39m=\u001b[39m\u001b[39mNone\u001b[39;00m):\n\u001b[0;32m-> 1148\u001b[0m   \u001b[39mreturn\u001b[39;00m convolution_internal(\n\u001b[1;32m   1149\u001b[0m       \u001b[39minput\u001b[39;49m,  \u001b[39m# pylint: disable=redefined-builtin\u001b[39;49;00m\n\u001b[1;32m   1150\u001b[0m       filters,\n\u001b[1;32m   1151\u001b[0m       strides\u001b[39m=\u001b[39;49mstrides,\n\u001b[1;32m   1152\u001b[0m       padding\u001b[39m=\u001b[39;49mpadding,\n\u001b[1;32m   1153\u001b[0m       data_format\u001b[39m=\u001b[39;49mdata_format,\n\u001b[1;32m   1154\u001b[0m       dilations\u001b[39m=\u001b[39;49mdilations,\n\u001b[1;32m   1155\u001b[0m       name\u001b[39m=\u001b[39;49mname)\n",
            "File \u001b[0;32m/usr/local/lib/python3.9/site-packages/tensorflow/python/ops/nn_ops.py:1280\u001b[0m, in \u001b[0;36mconvolution_internal\u001b[0;34m(input, filters, strides, padding, data_format, dilations, name, call_from_convolution, num_spatial_dims)\u001b[0m\n\u001b[1;32m   1277\u001b[0m   \u001b[39melse\u001b[39;00m:\n\u001b[1;32m   1278\u001b[0m     op \u001b[39m=\u001b[39m conv1d\n\u001b[0;32m-> 1280\u001b[0m   \u001b[39mreturn\u001b[39;00m op(\n\u001b[1;32m   1281\u001b[0m       \u001b[39minput\u001b[39;49m,\n\u001b[1;32m   1282\u001b[0m       filters,\n\u001b[1;32m   1283\u001b[0m       strides,\n\u001b[1;32m   1284\u001b[0m       padding\u001b[39m=\u001b[39;49mpadding,\n\u001b[1;32m   1285\u001b[0m       data_format\u001b[39m=\u001b[39;49mdata_format,\n\u001b[1;32m   1286\u001b[0m       dilations\u001b[39m=\u001b[39;49mdilations,\n\u001b[1;32m   1287\u001b[0m       name\u001b[39m=\u001b[39;49mname)\n\u001b[1;32m   1288\u001b[0m \u001b[39melse\u001b[39;00m:\n\u001b[1;32m   1289\u001b[0m   \u001b[39mif\u001b[39;00m channel_index \u001b[39m==\u001b[39m \u001b[39m1\u001b[39m:\n",
            "File \u001b[0;32m/usr/local/lib/python3.9/site-packages/tensorflow/python/ops/nn_ops.py:2756\u001b[0m, in \u001b[0;36m_conv2d_expanded_batch\u001b[0;34m(input, filters, strides, padding, data_format, dilations, name)\u001b[0m\n\u001b[1;32m   2752\u001b[0m input_rank \u001b[39m=\u001b[39m \u001b[39minput\u001b[39m\u001b[39m.\u001b[39mshape\u001b[39m.\u001b[39mrank\n\u001b[1;32m   2753\u001b[0m \u001b[39mif\u001b[39;00m input_rank \u001b[39mis\u001b[39;00m \u001b[39mNone\u001b[39;00m \u001b[39mor\u001b[39;00m input_rank \u001b[39m<\u001b[39m \u001b[39m5\u001b[39m:\n\u001b[1;32m   2754\u001b[0m   \u001b[39m# We avoid calling squeeze_batch_dims to reduce extra python function\u001b[39;00m\n\u001b[1;32m   2755\u001b[0m   \u001b[39m# call slowdown in eager mode.  This branch doesn't require reshapes.\u001b[39;00m\n\u001b[0;32m-> 2756\u001b[0m   \u001b[39mreturn\u001b[39;00m gen_nn_ops\u001b[39m.\u001b[39;49mconv2d(\n\u001b[1;32m   2757\u001b[0m       \u001b[39minput\u001b[39;49m,\n\u001b[1;32m   2758\u001b[0m       \u001b[39mfilter\u001b[39;49m\u001b[39m=\u001b[39;49mfilters,\n\u001b[1;32m   2759\u001b[0m       strides\u001b[39m=\u001b[39;49mstrides,\n\u001b[1;32m   2760\u001b[0m       padding\u001b[39m=\u001b[39;49mpadding,\n\u001b[1;32m   2761\u001b[0m       data_format\u001b[39m=\u001b[39;49mdata_format,\n\u001b[1;32m   2762\u001b[0m       dilations\u001b[39m=\u001b[39;49mdilations,\n\u001b[1;32m   2763\u001b[0m       name\u001b[39m=\u001b[39;49mname)\n\u001b[1;32m   2764\u001b[0m \u001b[39mreturn\u001b[39;00m squeeze_batch_dims(\n\u001b[1;32m   2765\u001b[0m     \u001b[39minput\u001b[39m,\n\u001b[1;32m   2766\u001b[0m     functools\u001b[39m.\u001b[39mpartial(\n\u001b[0;32m   (...)\u001b[0m\n\u001b[1;32m   2773\u001b[0m     inner_rank\u001b[39m=\u001b[39m\u001b[39m3\u001b[39m,\n\u001b[1;32m   2774\u001b[0m     name\u001b[39m=\u001b[39mname)\n",
            "File \u001b[0;32m/usr/local/lib/python3.9/site-packages/tensorflow/python/ops/gen_nn_ops.py:925\u001b[0m, in \u001b[0;36mconv2d\u001b[0;34m(input, filter, strides, padding, use_cudnn_on_gpu, explicit_paddings, data_format, dilations, name)\u001b[0m\n\u001b[1;32m    923\u001b[0m \u001b[39mif\u001b[39;00m tld\u001b[39m.\u001b[39mis_eager:\n\u001b[1;32m    924\u001b[0m   \u001b[39mtry\u001b[39;00m:\n\u001b[0;32m--> 925\u001b[0m     _result \u001b[39m=\u001b[39m pywrap_tfe\u001b[39m.\u001b[39;49mTFE_Py_FastPathExecute(\n\u001b[1;32m    926\u001b[0m       _ctx, \u001b[39m\"\u001b[39;49m\u001b[39mConv2D\u001b[39;49m\u001b[39m\"\u001b[39;49m, name, \u001b[39minput\u001b[39;49m, \u001b[39mfilter\u001b[39;49m, \u001b[39m\"\u001b[39;49m\u001b[39mstrides\u001b[39;49m\u001b[39m\"\u001b[39;49m, strides,\n\u001b[1;32m    927\u001b[0m       \u001b[39m\"\u001b[39;49m\u001b[39muse_cudnn_on_gpu\u001b[39;49m\u001b[39m\"\u001b[39;49m, use_cudnn_on_gpu, \u001b[39m\"\u001b[39;49m\u001b[39mpadding\u001b[39;49m\u001b[39m\"\u001b[39;49m, padding,\n\u001b[1;32m    928\u001b[0m       \u001b[39m\"\u001b[39;49m\u001b[39mexplicit_paddings\u001b[39;49m\u001b[39m\"\u001b[39;49m, explicit_paddings, \u001b[39m\"\u001b[39;49m\u001b[39mdata_format\u001b[39;49m\u001b[39m\"\u001b[39;49m, data_format,\n\u001b[1;32m    929\u001b[0m       \u001b[39m\"\u001b[39;49m\u001b[39mdilations\u001b[39;49m\u001b[39m\"\u001b[39;49m, dilations)\n\u001b[1;32m    930\u001b[0m     \u001b[39mreturn\u001b[39;00m _result\n\u001b[1;32m    931\u001b[0m   \u001b[39mexcept\u001b[39;00m _core\u001b[39m.\u001b[39m_NotOkStatusException \u001b[39mas\u001b[39;00m e:\n",
            "\u001b[0;31mKeyboardInterrupt\u001b[0m: "
          ]
        }
      ],
      "source": [
        "epochs = 2\n",
        "for e in range(1, epochs+1):\n",
        "    # this is cool utility in Tensorflow that will create a nice looking progress bar\n",
        "    bar = tf.keras.utils.Progbar(len(dataset)-1)\n",
        "    losses = []\n",
        "    for i, batch in enumerate(iter(dataset)):\n",
        "        # run the training loop\n",
        "        loss = train_step(batch)\n",
        "        losses.append(loss)\n",
        "        bar.update(i, values=[(\"loss\", loss)])\n",
        "\n",
        "    avg = np.mean(losses)\n",
        "    print(f\"Average loss for epoch {e}/{epochs}: {avg}\")\n",
        "    ckpt_manager.save(checkpoint_number=e)"
      ]
    },
    {
      "cell_type": "code",
      "execution_count": null,
      "metadata": {
        "id": "vVOAyLdQxocc"
      },
      "outputs": [],
      "source": [
        "# Save a GIF using logged images\n",
        "def save_gif(img_list, path=\"\", interval=200):\n",
        "    # Transform images from [-1,1] to [0, 255]\n",
        "    imgs = []\n",
        "    for im in img_list:\n",
        "        im = np.array(im)\n",
        "        im = (im + 1) * 127.5\n",
        "        im = np.clip(im, 0, 255).astype(np.int32)\n",
        "        im = Image.fromarray(im)\n",
        "        imgs.append(im)\n",
        "    \n",
        "    imgs = iter(imgs)\n",
        "\n",
        "    # Extract first image from iterator\n",
        "    img = next(imgs)\n",
        "\n",
        "    # Append the other images and save as GIF\n",
        "    img.save(fp=path, format='GIF', append_images=imgs,\n",
        "             save_all=True, duration=interval, loop=0)"
      ]
    },
    {
      "cell_type": "markdown",
      "metadata": {
        "id": "sUHAkLci_qDt"
      },
      "source": [
        "ddpm"
      ]
    },
    {
      "cell_type": "code",
      "execution_count": null,
      "metadata": {
        "id": "xHE6mwKLxql4"
      },
      "outputs": [],
      "source": [
        "def ddpm(x_t, pred_noise, t):\n",
        "    alpha_t = np.take(alpha, t)\n",
        "    alpha_t_bar = np.take(alpha_bar, t)\n",
        "\n",
        "    eps_coef = (1 - alpha_t) / (1 - alpha_t_bar) ** .5\n",
        "    mean = (1 / (alpha_t ** .5)) * (x_t - eps_coef * pred_noise)\n",
        "\n",
        "    var = np.take(beta, t)\n",
        "    z = np.random.normal(size=x_t.shape)\n",
        "\n",
        "    return mean + (var ** .5) * z"
      ]
    },
    {
      "cell_type": "markdown",
      "metadata": {
        "id": "PlY8f9Zw8rPf"
      },
      "source": [
        "after 2 epochs"
      ]
    },
    {
      "cell_type": "code",
      "execution_count": null,
      "metadata": {
        "colab": {
          "base_uri": "https://localhost:8080/",
          "height": 1000
        },
        "id": "kG1KGJK0xs9K",
        "outputId": "39dbed27-0a96-46af-f09a-3fae2912cdf6"
      },
      "outputs": [
        {
          "name": "stderr",
          "output_type": "stream",
          "text": [
            "\r  0%|          | 0/199 [00:00<?, ?it/s]"
          ]
        },
        {
          "data": {
            "image/png": "[encoded data removed]",
            "text/plain": [
              "<Figure size 640x480 with 1 Axes>"
            ]
          },
          "metadata": {},
          "output_type": "display_data"
        },
        {
          "name": "stderr",
          "output_type": "stream",
          "text": [
            " 13%|█▎        | 25/199 [00:12<00:52,  3.33it/s]"
          ]
        },
        {
          "data": {
            "image/png": "[encoded data removed]",
            "text/plain": [
              "<Figure size 640x480 with 1 Axes>"
            ]
          },
          "metadata": {},
          "output_type": "display_data"
        },
        {
          "name": "stderr",
          "output_type": "stream",
          "text": [
            " 25%|██▌       | 50/199 [00:19<00:40,  3.71it/s]"
          ]
        },
        {
          "data": {
            "image/png": "[encoded data removed]",
            "text/plain": [
              "<Figure size 640x480 with 1 Axes>"
            ]
          },
          "metadata": {},
          "output_type": "display_data"
        },
        {
          "name": "stderr",
          "output_type": "stream",
          "text": [
            " 38%|███▊      | 75/199 [00:31<01:05,  1.89it/s]"
          ]
        },
        {
          "data": {
            "image/png": "[encoded data removed]",
            "text/plain": [
              "<Figure size 640x480 with 1 Axes>"
            ]
          },
          "metadata": {},
          "output_type": "display_data"
        },
        {
          "name": "stderr",
          "output_type": "stream",
          "text": [
            " 50%|█████     | 100/199 [00:38<00:27,  3.64it/s]"
          ]
        },
        {
          "data": {
            "image/png": "[encoded data removed]",
            "text/plain": [
              "<Figure size 640x480 with 1 Axes>"
            ]
          },
          "metadata": {},
          "output_type": "display_data"
        },
        {
          "name": "stderr",
          "output_type": "stream",
          "text": [
            " 63%|██████▎   | 125/199 [00:45<00:25,  2.96it/s]"
          ]
        },
        {
          "data": {
            "image/png": "[encoded data removed]",
            "text/plain": [
              "<Figure size 640x480 with 1 Axes>"
            ]
          },
          "metadata": {},
          "output_type": "display_data"
        },
        {
          "name": "stderr",
          "output_type": "stream",
          "text": [
            " 75%|███████▌  | 150/199 [00:52<00:13,  3.69it/s]"
          ]
        },
        {
          "data": {
            "image/png": "[encoded data removed]",
            "text/plain": [
              "<Figure size 640x480 with 1 Axes>"
            ]
          },
          "metadata": {},
          "output_type": "display_data"
        },
        {
          "name": "stderr",
          "output_type": "stream",
          "text": [
            " 88%|████████▊ | 175/199 [01:00<00:06,  3.58it/s]"
          ]
        },
        {
          "data": {
            "image/png": "[encoded data removed]",
            "text/plain": [
              "<Figure size 640x480 with 1 Axes>"
            ]
          },
          "metadata": {},
          "output_type": "display_data"
        },
        {
          "name": "stderr",
          "output_type": "stream",
          "text": [
            "100%|██████████| 199/199 [01:07<00:00,  2.96it/s]\n"
          ]
        },
        {
          "data": {
            "image/png": "[encoded data removed]",
            "text/plain": [
              "<Figure size 640x480 with 1 Axes>"
            ]
          },
          "metadata": {},
          "output_type": "display_data"
        }
      ],
      "source": [
        "\n",
        "x = tf.random.normal((1,32,32,1))\n",
        "img_list = []\n",
        "img_list.append(np.squeeze(np.squeeze(x, 0),-1))\n",
        "\n",
        "for i in tqdm(range(timesteps-1)):\n",
        "    t = np.expand_dims(np.array(timesteps-i-1, np.int32), 0)\n",
        "    pred_noise = unet(x, t)\n",
        "    x = ddpm(x, pred_noise, t)\n",
        "    img_list.append(np.squeeze(np.squeeze(x, 0),-1))\n",
        "\n",
        "    if i % 25==0:\n",
        "        plt.imshow(np.array(np.clip((x[0] + 1) * 127.5, 0, 255), np.uint8), cmap=\"gray\")\n",
        "        plt.show()\n",
        "\n",
        "save_gif(img_list + ([img_list[-1]] * 100), \"ddpm.gif\", interval=20)\n",
        "\n",
        "plt.imshow(np.array(np.clip((x[0] + 1) * 127.5, 0, 255), np.uint8))\n",
        "plt.show()"
      ]
    },
    {
      "cell_type": "markdown",
      "metadata": {
        "id": "uQKKJxzh88zJ"
      },
      "source": [
        "after 4 epochs"
      ]
    },
    {
      "cell_type": "code",
      "execution_count": null,
      "metadata": {
        "id": "umMoj9Ea88dI"
      },
      "outputs": [],
      "source": [
        "\n",
        "x = tf.random.normal((1,32,32,1))\n",
        "img_list = []\n",
        "img_list.append(np.squeeze(np.squeeze(x, 0),-1))\n",
        "\n",
        "for i in tqdm(range(timesteps-1)):\n",
        "    t = np.expand_dims(np.array(timesteps-i-1, np.int32), 0)\n",
        "    pred_noise = unet(x, t)\n",
        "    x = ddpm(x, pred_noise, t)\n",
        "    img_list.append(np.squeeze(np.squeeze(x, 0),-1))\n",
        "\n",
        "    if i % 25==0:\n",
        "        plt.imshow(np.array(np.clip((x[0] + 1) * 127.5, 0, 255), np.uint8), cmap=\"gray\")\n",
        "        plt.show()\n",
        "\n",
        "save_gif(img_list + ([img_list[-1]] * 100), \"ddpm.gif\", interval=20)\n",
        "\n",
        "plt.imshow(np.array(np.clip((x[0] + 1) * 127.5, 0, 255), np.uint8))\n",
        "plt.show()"
      ]
    },
    {
      "cell_type": "markdown",
      "metadata": {
        "id": "ilBWn-___rM1"
      },
      "source": [
        "ddim"
      ]
    },
    {
      "cell_type": "code",
      "execution_count": null,
      "metadata": {
        "id": "7Ryc6C1T_r5N"
      },
      "outputs": [
        {
          "ename": "NameError",
          "evalue": "name 'unet' is not defined",
          "output_type": "error",
          "traceback": [
            "\u001b[0;31m---------------------------------------------------------------------------\u001b[0m",
            "\u001b[0;31mNameError\u001b[0m                                 Traceback (most recent call last)",
            "Cell \u001b[0;32mIn[1], line 1\u001b[0m\n\u001b[0;32m----> 1\u001b[0m unet\u001b[39m.\u001b[39msave_weights(\u001b[39m'\u001b[39m\u001b[39mcheckpoints/current_weights\u001b[39m\u001b[39m'\u001b[39m)\n",
            "\u001b[0;31mNameError\u001b[0m: name 'unet' is not defined"
          ]
        }
      ],
      "source": [
        "unet.save_weights('checkpoints/current_weights')"
      ]
    }
  ],
  "metadata": {
    "accelerator": "GPU",
    "colab": {
      "provenance": []
    },
    "gpuClass": "standard",
    "kernelspec": {
      "display_name": "Python 3",
      "name": "python3"
    },
    "language_info": {
      "codemirror_mode": {
        "name": "ipython",
        "version": 3
      },
      "file_extension": ".py",
      "mimetype": "text/x-python",
      "name": "python",
      "nbconvert_exporter": "python",
      "pygments_lexer": "ipython3",
      "version": "3.9.9"
    },
    "widgets": {
      "application/vnd.jupyter.widget-state+json": {
        "11f34f2f6af7490387b7899b3a405170": {
          "model_module": "@jupyter-widgets/controls",
          "model_module_version": "1.5.0",
          "model_name": "FloatProgressModel",
          "state": {
            "_dom_classes": [],
            "_model_module": "@jupyter-widgets/controls",
            "_model_module_version": "1.5.0",
            "_model_name": "FloatProgressModel",
            "_view_count": null,
            "_view_module": "@jupyter-widgets/controls",
            "_view_module_version": "1.5.0",
            "_view_name": "ProgressView",
            "bar_style": "success",
            "description": "",
            "description_tooltip": null,
            "layout": "IPY_MODEL_301be3ce67f846b7a651923143a3c52c",
            "max": 5,
            "min": 0,
            "orientation": "horizontal",
            "style": "IPY_MODEL_c3554973c3884be682f9fcab18fcf0f2",
            "value": 5
          }
        },
        "1bda402db57e4a96b07115690752e99e": {
          "model_module": "@jupyter-widgets/controls",
          "model_module_version": "1.5.0",
          "model_name": "DescriptionStyleModel",
          "state": {
            "_model_module": "@jupyter-widgets/controls",
            "_model_module_version": "1.5.0",
            "_model_name": "DescriptionStyleModel",
            "_view_count": null,
            "_view_module": "@jupyter-widgets/base",
            "_view_module_version": "1.2.0",
            "_view_name": "StyleView",
            "description_width": ""
          }
        },
        "301be3ce67f846b7a651923143a3c52c": {
          "model_module": "@jupyter-widgets/base",
          "model_module_version": "1.2.0",
          "model_name": "LayoutModel",
          "state": {
            "_model_module": "@jupyter-widgets/base",
            "_model_module_version": "1.2.0",
            "_model_name": "LayoutModel",
            "_view_count": null,
            "_view_module": "@jupyter-widgets/base",
            "_view_module_version": "1.2.0",
            "_view_name": "LayoutView",
            "align_content": null,
            "align_items": null,
            "align_self": null,
            "border": null,
            "bottom": null,
            "display": null,
            "flex": null,
            "flex_flow": null,
            "grid_area": null,
            "grid_auto_columns": null,
            "grid_auto_flow": null,
            "grid_auto_rows": null,
            "grid_column": null,
            "grid_gap": null,
            "grid_row": null,
            "grid_template_areas": null,
            "grid_template_columns": null,
            "grid_template_rows": null,
            "height": null,
            "justify_content": null,
            "justify_items": null,
            "left": null,
            "margin": null,
            "max_height": null,
            "max_width": null,
            "min_height": null,
            "min_width": null,
            "object_fit": null,
            "object_position": null,
            "order": null,
            "overflow": null,
            "overflow_x": null,
            "overflow_y": null,
            "padding": null,
            "right": null,
            "top": null,
            "visibility": null,
            "width": null
          }
        },
        "41987aeea49a421e83a0dca49f785eec": {
          "model_module": "@jupyter-widgets/controls",
          "model_module_version": "1.5.0",
          "model_name": "HTMLModel",
          "state": {
            "_dom_classes": [],
            "_model_module": "@jupyter-widgets/controls",
            "_model_module_version": "1.5.0",
            "_model_name": "HTMLModel",
            "_view_count": null,
            "_view_module": "@jupyter-widgets/controls",
            "_view_module_version": "1.5.0",
            "_view_name": "HTMLView",
            "description": "",
            "description_tooltip": null,
            "layout": "IPY_MODEL_667c0b5e19e94a75a5dddbc552622334",
            "placeholder": "​",
            "style": "IPY_MODEL_1bda402db57e4a96b07115690752e99e",
            "value": " 5/5 [00:00&lt;00:00, 14.49 file/s]"
          }
        },
        "54c87dfdc17641599605b9f8cfd425a2": {
          "model_module": "@jupyter-widgets/base",
          "model_module_version": "1.2.0",
          "model_name": "LayoutModel",
          "state": {
            "_model_module": "@jupyter-widgets/base",
            "_model_module_version": "1.2.0",
            "_model_name": "LayoutModel",
            "_view_count": null,
            "_view_module": "@jupyter-widgets/base",
            "_view_module_version": "1.2.0",
            "_view_name": "LayoutView",
            "align_content": null,
            "align_items": null,
            "align_self": null,
            "border": null,
            "bottom": null,
            "display": null,
            "flex": null,
            "flex_flow": null,
            "grid_area": null,
            "grid_auto_columns": null,
            "grid_auto_flow": null,
            "grid_auto_rows": null,
            "grid_column": null,
            "grid_gap": null,
            "grid_row": null,
            "grid_template_areas": null,
            "grid_template_columns": null,
            "grid_template_rows": null,
            "height": null,
            "justify_content": null,
            "justify_items": null,
            "left": null,
            "margin": null,
            "max_height": null,
            "max_width": null,
            "min_height": null,
            "min_width": null,
            "object_fit": null,
            "object_position": null,
            "order": null,
            "overflow": null,
            "overflow_x": null,
            "overflow_y": null,
            "padding": null,
            "right": null,
            "top": null,
            "visibility": null,
            "width": null
          }
        },
        "667c0b5e19e94a75a5dddbc552622334": {
          "model_module": "@jupyter-widgets/base",
          "model_module_version": "1.2.0",
          "model_name": "LayoutModel",
          "state": {
            "_model_module": "@jupyter-widgets/base",
            "_model_module_version": "1.2.0",
            "_model_name": "LayoutModel",
            "_view_count": null,
            "_view_module": "@jupyter-widgets/base",
            "_view_module_version": "1.2.0",
            "_view_name": "LayoutView",
            "align_content": null,
            "align_items": null,
            "align_self": null,
            "border": null,
            "bottom": null,
            "display": null,
            "flex": null,
            "flex_flow": null,
            "grid_area": null,
            "grid_auto_columns": null,
            "grid_auto_flow": null,
            "grid_auto_rows": null,
            "grid_column": null,
            "grid_gap": null,
            "grid_row": null,
            "grid_template_areas": null,
            "grid_template_columns": null,
            "grid_template_rows": null,
            "height": null,
            "justify_content": null,
            "justify_items": null,
            "left": null,
            "margin": null,
            "max_height": null,
            "max_width": null,
            "min_height": null,
            "min_width": null,
            "object_fit": null,
            "object_position": null,
            "order": null,
            "overflow": null,
            "overflow_x": null,
            "overflow_y": null,
            "padding": null,
            "right": null,
            "top": null,
            "visibility": null,
            "width": null
          }
        },
        "c3554973c3884be682f9fcab18fcf0f2": {
          "model_module": "@jupyter-widgets/controls",
          "model_module_version": "1.5.0",
          "model_name": "ProgressStyleModel",
          "state": {
            "_model_module": "@jupyter-widgets/controls",
            "_model_module_version": "1.5.0",
            "_model_name": "ProgressStyleModel",
            "_view_count": null,
            "_view_module": "@jupyter-widgets/base",
            "_view_module_version": "1.2.0",
            "_view_name": "StyleView",
            "bar_color": null,
            "description_width": ""
          }
        },
        "d608dde0fae74a17a7a05b48115211a2": {
          "model_module": "@jupyter-widgets/controls",
          "model_module_version": "1.5.0",
          "model_name": "DescriptionStyleModel",
          "state": {
            "_model_module": "@jupyter-widgets/controls",
            "_model_module_version": "1.5.0",
            "_model_name": "DescriptionStyleModel",
            "_view_count": null,
            "_view_module": "@jupyter-widgets/base",
            "_view_module_version": "1.2.0",
            "_view_name": "StyleView",
            "description_width": ""
          }
        },
        "db8176b0c8dd40c280f9d99a75e75cea": {
          "model_module": "@jupyter-widgets/base",
          "model_module_version": "1.2.0",
          "model_name": "LayoutModel",
          "state": {
            "_model_module": "@jupyter-widgets/base",
            "_model_module_version": "1.2.0",
            "_model_name": "LayoutModel",
            "_view_count": null,
            "_view_module": "@jupyter-widgets/base",
            "_view_module_version": "1.2.0",
            "_view_name": "LayoutView",
            "align_content": null,
            "align_items": null,
            "align_self": null,
            "border": null,
            "bottom": null,
            "display": null,
            "flex": null,
            "flex_flow": null,
            "grid_area": null,
            "grid_auto_columns": null,
            "grid_auto_flow": null,
            "grid_auto_rows": null,
            "grid_column": null,
            "grid_gap": null,
            "grid_row": null,
            "grid_template_areas": null,
            "grid_template_columns": null,
            "grid_template_rows": null,
            "height": null,
            "justify_content": null,
            "justify_items": null,
            "left": null,
            "margin": null,
            "max_height": null,
            "max_width": null,
            "min_height": null,
            "min_width": null,
            "object_fit": null,
            "object_position": null,
            "order": null,
            "overflow": null,
            "overflow_x": null,
            "overflow_y": null,
            "padding": null,
            "right": null,
            "top": null,
            "visibility": null,
            "width": null
          }
        },
        "df050b03156f44bc96e1c78c5b26264a": {
          "model_module": "@jupyter-widgets/controls",
          "model_module_version": "1.5.0",
          "model_name": "HBoxModel",
          "state": {
            "_dom_classes": [],
            "_model_module": "@jupyter-widgets/controls",
            "_model_module_version": "1.5.0",
            "_model_name": "HBoxModel",
            "_view_count": null,
            "_view_module": "@jupyter-widgets/controls",
            "_view_module_version": "1.5.0",
            "_view_name": "HBoxView",
            "box_style": "",
            "children": [
              "IPY_MODEL_e084fecefcef4636b01c4f27910a6055",
              "IPY_MODEL_11f34f2f6af7490387b7899b3a405170",
              "IPY_MODEL_41987aeea49a421e83a0dca49f785eec"
            ],
            "layout": "IPY_MODEL_db8176b0c8dd40c280f9d99a75e75cea"
          }
        },
        "e084fecefcef4636b01c4f27910a6055": {
          "model_module": "@jupyter-widgets/controls",
          "model_module_version": "1.5.0",
          "model_name": "HTMLModel",
          "state": {
            "_dom_classes": [],
            "_model_module": "@jupyter-widgets/controls",
            "_model_module_version": "1.5.0",
            "_model_name": "HTMLModel",
            "_view_count": null,
            "_view_module": "@jupyter-widgets/controls",
            "_view_module_version": "1.5.0",
            "_view_name": "HTMLView",
            "description": "",
            "description_tooltip": null,
            "layout": "IPY_MODEL_54c87dfdc17641599605b9f8cfd425a2",
            "placeholder": "​",
            "style": "IPY_MODEL_d608dde0fae74a17a7a05b48115211a2",
            "value": "Dl Completed...: 100%"
          }
        }
      }
    }
  },
  "nbformat": 4,
  "nbformat_minor": 0
}
